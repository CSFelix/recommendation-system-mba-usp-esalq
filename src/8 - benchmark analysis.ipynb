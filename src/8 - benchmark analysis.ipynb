{
 "cells": [
  {
   "cell_type": "markdown",
   "id": "27a516f7-784d-452a-8595-a2eac6a0bad4",
   "metadata": {},
   "source": [
    "<center>\n",
    "    <h1 id='benchmark-analysis' style='color:#7159c1; font-size:350%'>Benchmark Analysis</h1>\n",
    "    <i style='font-size:125%'>Analysing Recommendation System Algorithms Performances</i>\n",
    "</center>\n",
    "\n",
    "> **Topics**\n",
    "\n",
    "```\n",
    "- 👨‍🔬 Merging Datasets\n",
    "- 👨‍🔬 Exploring Performances\n",
    "- 👨‍🔬 Conclusions\n",
    "```"
   ]
  },
  {
   "cell_type": "code",
   "execution_count": 1,
   "id": "9dfbd062-178e-4e0c-8090-f63c14dc1390",
   "metadata": {},
   "outputs": [],
   "source": [
    "# ---- Imports ----\n",
    "import gc            # pip install gc\n",
    "import numpy as np   # pip install numpy\n",
    "import pandas as pd  # pip install pandas\n",
    "\n",
    "# ---- Constants ----\n",
    "DATASETS_PATH = ('./datasets/benchmarks')\n",
    "SEED = (20240420) # April 20, 2024 (fourth Bitcoin Halving)\n",
    "\n",
    "# ---- Settings ----\n",
    "np.random.seed(SEED)\n",
    "pd.set_option('display.max_columns', None)"
   ]
  },
  {
   "cell_type": "markdown",
   "id": "4cde5aaa-359c-47f4-900d-54cae05750bf",
   "metadata": {},
   "source": [
    "<h1 id='0-merging-datasets' style='color:#7159c1; border-bottom:3px solid #7159c1; letter-spacing:2px; font-family:JetBrains Mono; font-weight: bold; text-align:left; font-size:240%;padding:0'>👨‍🔬 | Merging Datasets</h1>\n",
    "\n",
    "Since a different benchmark dataset has been created for each Recommendation System Algorithm and it's better to work with a single one to analyse the performances, the first thing we have to do in this notebook is merge all datasets into one!!"
   ]
  },
  {
   "cell_type": "code",
   "execution_count": 2,
   "id": "de358d6f-b887-4dbf-9456-a6058a0fd769",
   "metadata": {},
   "outputs": [],
   "source": [
    "# ---- Reading Datasets ----\n",
    "bayesian_mean_df = pd.read_csv(f'{DATASETS_PATH}/demographic-filtering-bayesian-mean.csv')\n",
    "popularity_df = pd.read_csv(f'{DATASETS_PATH}/demographic-filtering-popularity.csv')\n",
    "plots_df = pd.read_csv(f'{DATASETS_PATH}/content-based-filtering-plots.csv')\n",
    "metadatas_df = pd.read_csv(f'{DATASETS_PATH}/content-based-filtering-metadas.csv')\n",
    "user_based_df = pd.read_csv(f'{DATASETS_PATH}/collaborative-filtering-user-based.csv')\n",
    "item_based_df = pd.read_csv(f'{DATASETS_PATH}/collaborative-filtering-item-based.csv')\n",
    "hybrid_df = pd.read_csv(f'{DATASETS_PATH}/hybrid-filtering.csv')"
   ]
  },
  {
   "cell_type": "code",
   "execution_count": 3,
   "id": "52716180-33de-4616-929a-0237ccac7091",
   "metadata": {},
   "outputs": [],
   "source": [
    "# ---- Merging Datasets ----\n",
    "#\n",
    "# - axis: 0 concats the datasets by rows (top-bottom) and 1 concats by columns (side-by-side)\n",
    "#\n",
    "full_benchmark_df = pd.concat(\n",
    "    [\n",
    "        bayesian_mean_df\n",
    "        , popularity_df\n",
    "        , plots_df\n",
    "        , metadatas_df\n",
    "        , user_based_df\n",
    "        , item_based_df\n",
    "        , hybrid_df\n",
    "    ]\n",
    "    , ignore_index=True\n",
    "    , axis=0\n",
    ")\n",
    "\n",
    "full_benchmark_df['algorithm'] = pd.Categorical(full_benchmark_df['algorithm'])"
   ]
  },
  {
   "cell_type": "code",
   "execution_count": 4,
   "id": "b21f9022-cf3c-429a-af5b-08458956ad9d",
   "metadata": {},
   "outputs": [],
   "source": [
    "# ---- Exporting Dataset ----\n",
    "full_benchmark_df.to_csv(f'{DATASETS_PATH}/full-benchmark.csv', index=False)"
   ]
  },
  {
   "cell_type": "code",
   "execution_count": 5,
   "id": "b8804704-d13a-43ff-a0cc-4e3664159d73",
   "metadata": {},
   "outputs": [
    {
     "data": {
      "text/plain": [
       "0"
      ]
     },
     "execution_count": 5,
     "metadata": {},
     "output_type": "execute_result"
    }
   ],
   "source": [
    "# ---- Deleting Objects ----\n",
    "#\n",
    "#  - 'del' keyword deletes the object into RAM memory;\n",
    "#  - 'gc.collect()' function frees the freed and unused RAM memory previously occupied by the objects;\n",
    "# Moreover. the number of non-deleted objects is returned after running the function.\n",
    "#\n",
    "del bayesian_mean_df\n",
    "del popularity_df\n",
    "del plots_df\n",
    "del metadatas_df\n",
    "del user_based_df\n",
    "del item_based_df\n",
    "del hybrid_df\n",
    "del full_benchmark_df\n",
    "\n",
    "gc.collect()"
   ]
  },
  {
   "cell_type": "markdown",
   "id": "5c6764ae-d6c1-43e4-94be-5df9ed051007",
   "metadata": {},
   "source": [
    "<h1 id='1-exploring-performances' style='color:#7159c1; border-bottom:3px solid #7159c1; letter-spacing:2px; font-family:JetBrains Mono; font-weight: bold; text-align:left; font-size:240%;padding:0'>👨‍🔬 | Exploring Performances</h1>"
   ]
  },
  {
   "cell_type": "markdown",
   "id": "ad5121f1-0a16-4b1c-929b-0d6ad8693973",
   "metadata": {},
   "source": [
    "<h1 id='2-conclusions' style='color:#7159c1; border-bottom:3px solid #7159c1; letter-spacing:2px; font-family:JetBrains Mono; font-weight: bold; text-align:left; font-size:240%;padding:0'>👨‍🔬 | Conclusions</h1>"
   ]
  },
  {
   "cell_type": "markdown",
   "id": "434503bc-f0bb-4fbe-89f4-82de43e19540",
   "metadata": {},
   "source": [
    "---\n",
    "\n",
    "<h1 id='reach-me' style='color:#7159c1; border-bottom:3px solid #7159c1; letter-spacing:2px; font-family:JetBrains Mono; font-weight: bold; text-align:left; font-size:240%;padding:0'>📫 | Reach Me</h1>\n",
    "\n",
    "> **Email** - [csfelix08@gmail.com](mailto:csfelix08@gmail.com?)\n",
    "\n",
    "> **Linkedin** - [linkedin.com/in/csfelix/](https://www.linkedin.com/in/csfelix/)\n",
    "\n",
    "> **GitHub:** - [CSFelix](https://github.com/CSFelix)\n",
    "\n",
    "> **Kaggle** - [DSFelix](https://www.kaggle.com/dsfelix)\n",
    "\n",
    "> **Portfolio** - [CSFelix.io](https://csfelix.github.io/)."
   ]
  }
 ],
 "metadata": {
  "kernelspec": {
   "display_name": "Python 3 (ipykernel)",
   "language": "python",
   "name": "python3"
  },
  "language_info": {
   "codemirror_mode": {
    "name": "ipython",
    "version": 3
   },
   "file_extension": ".py",
   "mimetype": "text/x-python",
   "name": "python",
   "nbconvert_exporter": "python",
   "pygments_lexer": "ipython3",
   "version": "3.10.9"
  }
 },
 "nbformat": 4,
 "nbformat_minor": 5
}
