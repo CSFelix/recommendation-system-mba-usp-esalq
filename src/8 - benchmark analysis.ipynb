{
 "cells": [
  {
   "cell_type": "markdown",
   "id": "27a516f7-784d-452a-8595-a2eac6a0bad4",
   "metadata": {},
   "source": [
    "<center>\n",
    "    <h1 id='benchmark-analysis' style='color:#7159c1; font-size:350%'>Benchmark Analysis</h1>\n",
    "    <i style='font-size:125%'>Analysing Recommendation System Algorithms Performances</i>\n",
    "</center>\n",
    "\n",
    "> **Topics**\n",
    "\n",
    "```\n",
    "- 👨‍🔬 Merging Datasets\n",
    "- 👨‍🔬 Exploring Performances\n",
    "- 👨‍🔬 Conclusions\n",
    "```"
   ]
  },
  {
   "cell_type": "code",
   "execution_count": 1,
   "id": "9dfbd062-178e-4e0c-8090-f63c14dc1390",
   "metadata": {},
   "outputs": [],
   "source": [
    "# ---- Imports ----\n",
    "import gc                          # pip install gc\n",
    "import numpy as np                 # pip install numpy\n",
    "import pandas as pd                # pip install pandas\n",
    "import plotly.graph_objects as go  # pip install plotly\n",
    "\n",
    "# ---- Constants ----\n",
    "DATASETS_PATH = ('./datasets/benchmarks')\n",
    "SEED = (20240420) # April 20, 2024 (fourth Bitcoin Halving)\n",
    "\n",
    "# ---- Settings ----\n",
    "np.random.seed(SEED)\n",
    "pd.set_option('display.max_columns', None)\n",
    "\n",
    "# ---- Functions -----\n",
    "calculate_error = lambda data, std: [(max(0, mean - std), mean + std) for mean, std in zip(data, std)]"
   ]
  },
  {
   "cell_type": "markdown",
   "id": "4cde5aaa-359c-47f4-900d-54cae05750bf",
   "metadata": {},
   "source": [
    "<h1 id='0-merging-datasets' style='color:#7159c1; border-bottom:3px solid #7159c1; letter-spacing:2px; font-family:JetBrains Mono; font-weight: bold; text-align:left; font-size:240%;padding:0'>👨‍🔬 | Merging Datasets</h1>\n",
    "\n",
    "Since a different benchmark dataset has been created for each Recommendation System Algorithm and it's better to work with a single one to analyse the performances, the first thing we have to do in this notebook is merge all datasets into one!!"
   ]
  },
  {
   "cell_type": "code",
   "execution_count": 2,
   "id": "de358d6f-b887-4dbf-9456-a6058a0fd769",
   "metadata": {},
   "outputs": [],
   "source": [
    "# ---- Reading Datasets ----\n",
    "bayesian_mean_df = pd.read_csv(f'{DATASETS_PATH}/demographic-filtering-bayesian-mean.csv')\n",
    "popularity_df = pd.read_csv(f'{DATASETS_PATH}/demographic-filtering-popularity.csv')\n",
    "plots_df = pd.read_csv(f'{DATASETS_PATH}/content-based-filtering-plots.csv')\n",
    "metadatas_df = pd.read_csv(f'{DATASETS_PATH}/content-based-filtering-metadas.csv')\n",
    "user_based_df = pd.read_csv(f'{DATASETS_PATH}/collaborative-filtering-user-based.csv')\n",
    "item_based_df = pd.read_csv(f'{DATASETS_PATH}/collaborative-filtering-item-based.csv')\n",
    "hybrid_df = pd.read_csv(f'{DATASETS_PATH}/hybrid-filtering.csv')"
   ]
  },
  {
   "cell_type": "code",
   "execution_count": 3,
   "id": "52716180-33de-4616-929a-0237ccac7091",
   "metadata": {},
   "outputs": [],
   "source": [
    "# ---- Merging Datasets ----\n",
    "#\n",
    "# - axis: 0 concats the datasets by rows (top-bottom) and 1 concats by columns (side-by-side)\n",
    "#\n",
    "full_benchmark_df = pd.concat(\n",
    "    [\n",
    "        bayesian_mean_df\n",
    "        , popularity_df\n",
    "        , plots_df\n",
    "        , metadatas_df\n",
    "        , user_based_df\n",
    "        , item_based_df\n",
    "        , hybrid_df\n",
    "    ]\n",
    "    , ignore_index=True\n",
    "    , axis=0\n",
    ")\n",
    "\n",
    "full_benchmark_df['algorithm'] = pd.Categorical(full_benchmark_df['algorithm'])"
   ]
  },
  {
   "cell_type": "code",
   "execution_count": 4,
   "id": "b21f9022-cf3c-429a-af5b-08458956ad9d",
   "metadata": {},
   "outputs": [],
   "source": [
    "# ---- Exporting Dataset ----\n",
    "full_benchmark_df.to_csv(f'{DATASETS_PATH}/full-benchmark.csv', index=False)"
   ]
  },
  {
   "cell_type": "code",
   "execution_count": 5,
   "id": "b8804704-d13a-43ff-a0cc-4e3664159d73",
   "metadata": {},
   "outputs": [
    {
     "data": {
      "text/plain": [
       "0"
      ]
     },
     "execution_count": 5,
     "metadata": {},
     "output_type": "execute_result"
    }
   ],
   "source": [
    "# ---- Deleting Objects ----\n",
    "#\n",
    "#  - 'del' keyword deletes the object into RAM memory;\n",
    "#  - 'gc.collect()' function frees the freed and unused RAM memory previously occupied by the objects;\n",
    "# Moreover. the number of non-deleted objects is returned after running the function.\n",
    "#\n",
    "del bayesian_mean_df\n",
    "del popularity_df\n",
    "del plots_df\n",
    "del metadatas_df\n",
    "del user_based_df\n",
    "del item_based_df\n",
    "del hybrid_df\n",
    "del full_benchmark_df\n",
    "\n",
    "gc.collect()"
   ]
  },
  {
   "cell_type": "markdown",
   "id": "5c6764ae-d6c1-43e4-94be-5df9ed051007",
   "metadata": {},
   "source": [
    "<h1 id='1-exploring-performances' style='color:#7159c1; border-bottom:3px solid #7159c1; letter-spacing:2px; font-family:JetBrains Mono; font-weight: bold; text-align:left; font-size:240%;padding:0'>👨‍🔬 | Exploring Performances</h1>\n",
    "\n",
    "```\n",
    "- Reading Dataset and Calculating Statistics:  Execution Time, Avg RAM Usage, Avg CPU Usage;\n",
    "- Arithmetic Mean and Standard Deviation Analysis: Execution Time, Avg RAM Usage, Avg CPU Usage;\n",
    "- Iteration Analysis: All Variables;\n",
    "- Correlation Analysis: All Variables.\n",
    "```"
   ]
  },
  {
   "cell_type": "markdown",
   "id": "1f653a95-a8e3-4e87-b9d6-97cc9aebbe9c",
   "metadata": {},
   "source": [
    "---\n",
    "\n",
    "**- Reading Dataset and Calculating Statistics:  Execution Time, Avg RAM Usage, Avg CPU Usage**"
   ]
  },
  {
   "cell_type": "code",
   "execution_count": 2,
   "id": "01acd059-97e9-4b8c-bf71-cb622d972931",
   "metadata": {},
   "outputs": [
    {
     "data": {
      "text/html": [
       "<div>\n",
       "<style scoped>\n",
       "    .dataframe tbody tr th:only-of-type {\n",
       "        vertical-align: middle;\n",
       "    }\n",
       "\n",
       "    .dataframe tbody tr th {\n",
       "        vertical-align: top;\n",
       "    }\n",
       "\n",
       "    .dataframe thead tr th {\n",
       "        text-align: left;\n",
       "    }\n",
       "\n",
       "    .dataframe thead tr:last-of-type th {\n",
       "        text-align: right;\n",
       "    }\n",
       "</style>\n",
       "<table border=\"1\" class=\"dataframe\">\n",
       "  <thead>\n",
       "    <tr>\n",
       "      <th></th>\n",
       "      <th colspan=\"2\" halign=\"left\">execution_time</th>\n",
       "      <th colspan=\"2\" halign=\"left\">avg_ram_usage</th>\n",
       "      <th colspan=\"2\" halign=\"left\">avg_cpu_usage</th>\n",
       "    </tr>\n",
       "    <tr>\n",
       "      <th></th>\n",
       "      <th>mean</th>\n",
       "      <th>std</th>\n",
       "      <th>mean</th>\n",
       "      <th>std</th>\n",
       "      <th>mean</th>\n",
       "      <th>std</th>\n",
       "    </tr>\n",
       "    <tr>\n",
       "      <th>Algorithm</th>\n",
       "      <th></th>\n",
       "      <th></th>\n",
       "      <th></th>\n",
       "      <th></th>\n",
       "      <th></th>\n",
       "      <th></th>\n",
       "    </tr>\n",
       "  </thead>\n",
       "  <tbody>\n",
       "    <tr>\n",
       "      <th>DF - Bayesian Mean</th>\n",
       "      <td>0.109680</td>\n",
       "      <td>0.003762</td>\n",
       "      <td>0.766327</td>\n",
       "      <td>0.000081</td>\n",
       "      <td>0.356250</td>\n",
       "      <td>0.751047</td>\n",
       "    </tr>\n",
       "    <tr>\n",
       "      <th>DF - Popularity</th>\n",
       "      <td>0.109506</td>\n",
       "      <td>0.003037</td>\n",
       "      <td>0.769477</td>\n",
       "      <td>0.000000</td>\n",
       "      <td>0.711250</td>\n",
       "      <td>0.918227</td>\n",
       "    </tr>\n",
       "    <tr>\n",
       "      <th>CBF - Plots</th>\n",
       "      <td>288.566181</td>\n",
       "      <td>23.104007</td>\n",
       "      <td>3.811871</td>\n",
       "      <td>0.241169</td>\n",
       "      <td>12.384713</td>\n",
       "      <td>0.051517</td>\n",
       "    </tr>\n",
       "    <tr>\n",
       "      <th>CBF - Metadatas</th>\n",
       "      <td>7.557567</td>\n",
       "      <td>1.865608</td>\n",
       "      <td>19.097836</td>\n",
       "      <td>2.251480</td>\n",
       "      <td>11.871647</td>\n",
       "      <td>0.387459</td>\n",
       "    </tr>\n",
       "    <tr>\n",
       "      <th>CF - User-Based</th>\n",
       "      <td>101.324690</td>\n",
       "      <td>2.318002</td>\n",
       "      <td>1.488503</td>\n",
       "      <td>0.022910</td>\n",
       "      <td>12.355134</td>\n",
       "      <td>0.065017</td>\n",
       "    </tr>\n",
       "    <tr>\n",
       "      <th>CF - Item-Based</th>\n",
       "      <td>587.795372</td>\n",
       "      <td>17.926036</td>\n",
       "      <td>2.219660</td>\n",
       "      <td>0.307524</td>\n",
       "      <td>12.451096</td>\n",
       "      <td>0.029478</td>\n",
       "    </tr>\n",
       "    <tr>\n",
       "      <th>Hybrid Filtering</th>\n",
       "      <td>161.763756</td>\n",
       "      <td>3.133079</td>\n",
       "      <td>34.229826</td>\n",
       "      <td>3.336140</td>\n",
       "      <td>12.434723</td>\n",
       "      <td>0.086644</td>\n",
       "    </tr>\n",
       "  </tbody>\n",
       "</table>\n",
       "</div>"
      ],
      "text/plain": [
       "                   execution_time            avg_ram_usage            \\\n",
       "                             mean        std          mean       std   \n",
       "Algorithm                                                              \n",
       "DF - Bayesian Mean       0.109680   0.003762      0.766327  0.000081   \n",
       "DF - Popularity          0.109506   0.003037      0.769477  0.000000   \n",
       "CBF - Plots            288.566181  23.104007      3.811871  0.241169   \n",
       "CBF - Metadatas          7.557567   1.865608     19.097836  2.251480   \n",
       "CF - User-Based        101.324690   2.318002      1.488503  0.022910   \n",
       "CF - Item-Based        587.795372  17.926036      2.219660  0.307524   \n",
       "Hybrid Filtering       161.763756   3.133079     34.229826  3.336140   \n",
       "\n",
       "                   avg_cpu_usage            \n",
       "                            mean       std  \n",
       "Algorithm                                   \n",
       "DF - Bayesian Mean      0.356250  0.751047  \n",
       "DF - Popularity         0.711250  0.918227  \n",
       "CBF - Plots            12.384713  0.051517  \n",
       "CBF - Metadatas        11.871647  0.387459  \n",
       "CF - User-Based        12.355134  0.065017  \n",
       "CF - Item-Based        12.451096  0.029478  \n",
       "Hybrid Filtering       12.434723  0.086644  "
      ]
     },
     "execution_count": 2,
     "metadata": {},
     "output_type": "execute_result"
    }
   ],
   "source": [
    "# ---- Reading Dataset, Grouping and Calculating Statistics ----\n",
    "benchmark_df = pd.read_csv(f'{DATASETS_PATH}/full-benchmark.csv')\n",
    "benchmark_df['algorithm'] = pd.Categorical(benchmark_df['algorithm'])\n",
    "\n",
    "# ---- Grouping ----\n",
    "#\n",
    "# - Pandas GroupBy: https://pandas.pydata.org/pandas-docs/stable/reference/api/pandas.DataFrame.groupby.html\n",
    "#\n",
    "grouped_benchmark_df = benchmark_df[\n",
    "    ['algorithm', 'execution_time', 'avg_ram_usage', 'avg_cpu_usage']\n",
    "]                                          \\\n",
    "  .groupby(by=['algorithm'], sort=False)   \\\n",
    "  .agg(['mean', 'std'])\n",
    "\n",
    "\n",
    "# ---- Updating Index ----\n",
    "algorithms_list = [\n",
    "    'DF - Bayesian Mean', 'DF - Popularity', 'CBF - Plots'\n",
    "    , 'CBF - Metadatas', 'CF - User-Based', 'CF - Item-Based'\n",
    "    , 'Hybrid Filtering'\n",
    "]\n",
    "\n",
    "grouped_benchmark_df.index = algorithms_list\n",
    "grouped_benchmark_df.index.name = 'Algorithm'\n",
    "grouped_benchmark_df"
   ]
  },
  {
   "cell_type": "markdown",
   "id": "1ec58a67-5782-4c27-a0eb-813d4dd9c2c0",
   "metadata": {},
   "source": [
    "---\n",
    "\n",
    "**- Arithmetic Mean and Standard Deviation Analysis: Execution Time, Avg RAM Usage, Avg CPU Usage**"
   ]
  },
  {
   "cell_type": "code",
   "execution_count": 3,
   "id": "910630a9-6b91-4dac-8404-292d8e9e4b88",
   "metadata": {},
   "outputs": [],
   "source": [
    "# ---- Creating Traces: Execution Time ----\n",
    "grouped_execution_time_avg = grouped_benchmark_df['execution_time']['mean']\n",
    "grouped_execution_time_std = grouped_benchmark_df['execution_time']['std']\n",
    "grouped_execution_time_errors = calculate_error(grouped_execution_time_avg, grouped_execution_time_std)\n",
    "grouped_execution_time_traces = [\n",
    "    go.Bar(\n",
    "        name=algorithm\n",
    "        , x=[grouped_benchmark_df.loc[algorithm, ('execution_time', 'mean')]]\n",
    "        , y=[algorithm]\n",
    "        , error_x=dict(\n",
    "            type='data'\n",
    "            , symmetric=False\n",
    "            , array=[grouped_execution_time_errors[index][1] for index in range(len(grouped_execution_time_avg))]\n",
    "            , arrayminus=[grouped_execution_time_avg[index] for index in range(len(grouped_execution_time_avg))]\n",
    "        )\n",
    "        , orientation='h'\n",
    "        , visible=True\n",
    "    ) for algorithm in grouped_benchmark_df.index\n",
    "]\n",
    "\n",
    "# ---- Creating Traces: CPU Usage ----\n",
    "grouped_cpu_usage_avg = grouped_benchmark_df['avg_cpu_usage']['mean']\n",
    "grouped_cpu_usage_std = grouped_benchmark_df['avg_cpu_usage']['std']\n",
    "grouped_cpu_usage_errors = calculate_error(grouped_cpu_usage_avg, grouped_cpu_usage_std)\n",
    "grouped_cpu_usage_traces = [\n",
    "    go.Bar(\n",
    "        name=algorithm\n",
    "        , x=[grouped_benchmark_df.loc[algorithm, ('avg_cpu_usage', 'mean')]]\n",
    "        , y=[algorithm]\n",
    "        , error_x=dict(\n",
    "            type='data'\n",
    "            , symmetric=False\n",
    "            , array=[grouped_cpu_usage_errors[index][1] for index in range(len(grouped_cpu_usage_avg))]\n",
    "            , arrayminus=[grouped_cpu_usage_avg[index] for index in range(len(grouped_cpu_usage_avg))]\n",
    "        )\n",
    "        , orientation='h'\n",
    "        , visible=False\n",
    "    ) for algorithm in grouped_benchmark_df.index\n",
    "]\n",
    "\n",
    "# ---- Creating Traces: RAM Usage ----\n",
    "grouped_ram_usage_avg = grouped_benchmark_df['avg_ram_usage']['mean']\n",
    "grouped_ram_usage_std = grouped_benchmark_df['avg_ram_usage']['std']\n",
    "grouped_ram_usage_errors = calculate_error(grouped_ram_usage_avg, grouped_ram_usage_std)\n",
    "grouped_ram_usage_traces = [\n",
    "    go.Bar(\n",
    "        name=algorithm\n",
    "        , x=[grouped_benchmark_df.loc[algorithm, ('avg_ram_usage', 'mean')]]\n",
    "        , y=[algorithm]\n",
    "        , error_x=dict(\n",
    "            type='data'\n",
    "            , symmetric=False\n",
    "            , array=[grouped_ram_usage_errors[index][1] for index in range(len(grouped_ram_usage_avg))]\n",
    "            , arrayminus=[grouped_ram_usage_avg[index] for index in range(len(grouped_ram_usage_avg))]\n",
    "        )\n",
    "        , orientation='h'\n",
    "        , visible=False\n",
    "    ) for algorithm in grouped_benchmark_df.index\n",
    "]\n",
    "\n",
    "# ---- Merging All Traces ----\n",
    "grouped_all_traces = grouped_execution_time_traces + grouped_cpu_usage_traces + grouped_ram_usage_traces"
   ]
  },
  {
   "cell_type": "code",
   "execution_count": 8,
   "id": "b1c4ed94-fee8-41e8-8ecc-95ac88d31d53",
   "metadata": {},
   "outputs": [
    {
     "data": {
      "application/vnd.plotly.v1+json": {
       "config": {
        "plotlyServerURL": "https://plot.ly"
       },
       "data": [
        {
         "error_x": {
          "array": [
           0.1134421215590444,
           0.11254280960901084,
           311.6701880112341,
           9.423174790509458,
           103.64269119945605,
           605.7214081681392,
           164.8968357313028
          ],
          "arrayminus": [
           0.10968023000750685,
           0.10950599000789221,
           288.56618109003176,
           7.557566660013981,
           101.32468960997649,
           587.7953719799407,
           161.76375636996235
          ],
          "symmetric": false,
          "type": "data"
         },
         "name": "DF - Bayesian Mean",
         "orientation": "h",
         "type": "bar",
         "visible": true,
         "x": [
          0.10968023000750685
         ],
         "y": [
          "DF - Bayesian Mean"
         ]
        },
        {
         "error_x": {
          "array": [
           0.1134421215590444,
           0.11254280960901084,
           311.6701880112341,
           9.423174790509458,
           103.64269119945605,
           605.7214081681392,
           164.8968357313028
          ],
          "arrayminus": [
           0.10968023000750685,
           0.10950599000789221,
           288.56618109003176,
           7.557566660013981,
           101.32468960997649,
           587.7953719799407,
           161.76375636996235
          ],
          "symmetric": false,
          "type": "data"
         },
         "name": "DF - Popularity",
         "orientation": "h",
         "type": "bar",
         "visible": true,
         "x": [
          0.10950599000789221
         ],
         "y": [
          "DF - Popularity"
         ]
        },
        {
         "error_x": {
          "array": [
           0.1134421215590444,
           0.11254280960901084,
           311.6701880112341,
           9.423174790509458,
           103.64269119945605,
           605.7214081681392,
           164.8968357313028
          ],
          "arrayminus": [
           0.10968023000750685,
           0.10950599000789221,
           288.56618109003176,
           7.557566660013981,
           101.32468960997649,
           587.7953719799407,
           161.76375636996235
          ],
          "symmetric": false,
          "type": "data"
         },
         "name": "CBF - Plots",
         "orientation": "h",
         "type": "bar",
         "visible": true,
         "x": [
          288.56618109003176
         ],
         "y": [
          "CBF - Plots"
         ]
        },
        {
         "error_x": {
          "array": [
           0.1134421215590444,
           0.11254280960901084,
           311.6701880112341,
           9.423174790509458,
           103.64269119945605,
           605.7214081681392,
           164.8968357313028
          ],
          "arrayminus": [
           0.10968023000750685,
           0.10950599000789221,
           288.56618109003176,
           7.557566660013981,
           101.32468960997649,
           587.7953719799407,
           161.76375636996235
          ],
          "symmetric": false,
          "type": "data"
         },
         "name": "CBF - Metadatas",
         "orientation": "h",
         "type": "bar",
         "visible": true,
         "x": [
          7.557566660013981
         ],
         "y": [
          "CBF - Metadatas"
         ]
        },
        {
         "error_x": {
          "array": [
           0.1134421215590444,
           0.11254280960901084,
           311.6701880112341,
           9.423174790509458,
           103.64269119945605,
           605.7214081681392,
           164.8968357313028
          ],
          "arrayminus": [
           0.10968023000750685,
           0.10950599000789221,
           288.56618109003176,
           7.557566660013981,
           101.32468960997649,
           587.7953719799407,
           161.76375636996235
          ],
          "symmetric": false,
          "type": "data"
         },
         "name": "CF - User-Based",
         "orientation": "h",
         "type": "bar",
         "visible": true,
         "x": [
          101.32468960997649
         ],
         "y": [
          "CF - User-Based"
         ]
        },
        {
         "error_x": {
          "array": [
           0.1134421215590444,
           0.11254280960901084,
           311.6701880112341,
           9.423174790509458,
           103.64269119945605,
           605.7214081681392,
           164.8968357313028
          ],
          "arrayminus": [
           0.10968023000750685,
           0.10950599000789221,
           288.56618109003176,
           7.557566660013981,
           101.32468960997649,
           587.7953719799407,
           161.76375636996235
          ],
          "symmetric": false,
          "type": "data"
         },
         "name": "CF - Item-Based",
         "orientation": "h",
         "type": "bar",
         "visible": true,
         "x": [
          587.7953719799407
         ],
         "y": [
          "CF - Item-Based"
         ]
        },
        {
         "error_x": {
          "array": [
           0.1134421215590444,
           0.11254280960901084,
           311.6701880112341,
           9.423174790509458,
           103.64269119945605,
           605.7214081681392,
           164.8968357313028
          ],
          "arrayminus": [
           0.10968023000750685,
           0.10950599000789221,
           288.56618109003176,
           7.557566660013981,
           101.32468960997649,
           587.7953719799407,
           161.76375636996235
          ],
          "symmetric": false,
          "type": "data"
         },
         "name": "Hybrid Filtering",
         "orientation": "h",
         "type": "bar",
         "visible": true,
         "x": [
          161.76375636996235
         ],
         "y": [
          "Hybrid Filtering"
         ]
        },
        {
         "error_x": {
          "array": [
           1.1072967232839481,
           1.6294768918954616,
           12.436230528779998,
           12.259105539023677,
           12.42015098169801,
           12.480573931066049,
           12.52136721894511
          ],
          "arrayminus": [
           0.35625,
           0.7112499999999999,
           12.384713234070857,
           11.87164656952525,
           12.35513393535353,
           12.451095888027051,
           12.434722809711706
          ],
          "symmetric": false,
          "type": "data"
         },
         "name": "DF - Bayesian Mean",
         "orientation": "h",
         "type": "bar",
         "visible": false,
         "x": [
          0.35625
         ],
         "y": [
          "DF - Bayesian Mean"
         ]
        },
        {
         "error_x": {
          "array": [
           1.1072967232839481,
           1.6294768918954616,
           12.436230528779998,
           12.259105539023677,
           12.42015098169801,
           12.480573931066049,
           12.52136721894511
          ],
          "arrayminus": [
           0.35625,
           0.7112499999999999,
           12.384713234070857,
           11.87164656952525,
           12.35513393535353,
           12.451095888027051,
           12.434722809711706
          ],
          "symmetric": false,
          "type": "data"
         },
         "name": "DF - Popularity",
         "orientation": "h",
         "type": "bar",
         "visible": false,
         "x": [
          0.7112499999999999
         ],
         "y": [
          "DF - Popularity"
         ]
        },
        {
         "error_x": {
          "array": [
           1.1072967232839481,
           1.6294768918954616,
           12.436230528779998,
           12.259105539023677,
           12.42015098169801,
           12.480573931066049,
           12.52136721894511
          ],
          "arrayminus": [
           0.35625,
           0.7112499999999999,
           12.384713234070857,
           11.87164656952525,
           12.35513393535353,
           12.451095888027051,
           12.434722809711706
          ],
          "symmetric": false,
          "type": "data"
         },
         "name": "CBF - Plots",
         "orientation": "h",
         "type": "bar",
         "visible": false,
         "x": [
          12.384713234070857
         ],
         "y": [
          "CBF - Plots"
         ]
        },
        {
         "error_x": {
          "array": [
           1.1072967232839481,
           1.6294768918954616,
           12.436230528779998,
           12.259105539023677,
           12.42015098169801,
           12.480573931066049,
           12.52136721894511
          ],
          "arrayminus": [
           0.35625,
           0.7112499999999999,
           12.384713234070857,
           11.87164656952525,
           12.35513393535353,
           12.451095888027051,
           12.434722809711706
          ],
          "symmetric": false,
          "type": "data"
         },
         "name": "CBF - Metadatas",
         "orientation": "h",
         "type": "bar",
         "visible": false,
         "x": [
          11.87164656952525
         ],
         "y": [
          "CBF - Metadatas"
         ]
        },
        {
         "error_x": {
          "array": [
           1.1072967232839481,
           1.6294768918954616,
           12.436230528779998,
           12.259105539023677,
           12.42015098169801,
           12.480573931066049,
           12.52136721894511
          ],
          "arrayminus": [
           0.35625,
           0.7112499999999999,
           12.384713234070857,
           11.87164656952525,
           12.35513393535353,
           12.451095888027051,
           12.434722809711706
          ],
          "symmetric": false,
          "type": "data"
         },
         "name": "CF - User-Based",
         "orientation": "h",
         "type": "bar",
         "visible": false,
         "x": [
          12.35513393535353
         ],
         "y": [
          "CF - User-Based"
         ]
        },
        {
         "error_x": {
          "array": [
           1.1072967232839481,
           1.6294768918954616,
           12.436230528779998,
           12.259105539023677,
           12.42015098169801,
           12.480573931066049,
           12.52136721894511
          ],
          "arrayminus": [
           0.35625,
           0.7112499999999999,
           12.384713234070857,
           11.87164656952525,
           12.35513393535353,
           12.451095888027051,
           12.434722809711706
          ],
          "symmetric": false,
          "type": "data"
         },
         "name": "CF - Item-Based",
         "orientation": "h",
         "type": "bar",
         "visible": false,
         "x": [
          12.451095888027051
         ],
         "y": [
          "CF - Item-Based"
         ]
        },
        {
         "error_x": {
          "array": [
           1.1072967232839481,
           1.6294768918954616,
           12.436230528779998,
           12.259105539023677,
           12.42015098169801,
           12.480573931066049,
           12.52136721894511
          ],
          "arrayminus": [
           0.35625,
           0.7112499999999999,
           12.384713234070857,
           11.87164656952525,
           12.35513393535353,
           12.451095888027051,
           12.434722809711706
          ],
          "symmetric": false,
          "type": "data"
         },
         "name": "Hybrid Filtering",
         "orientation": "h",
         "type": "bar",
         "visible": false,
         "x": [
          12.434722809711706
         ],
         "y": [
          "Hybrid Filtering"
         ]
        },
        {
         "error_x": {
          "array": [
           0.7664088161885456,
           0.7694767461518917,
           4.053039919019209,
           21.349316553118612,
           1.511413192895538,
           2.5271846036757335,
           37.56596555698084
          ],
          "arrayminus": [
           0.7663273498022932,
           0.7694767461518917,
           3.8118709712937573,
           19.09783647938525,
           1.4885027983830654,
           2.219660460644711,
           34.22982602079722
          ],
          "symmetric": false,
          "type": "data"
         },
         "name": "DF - Bayesian Mean",
         "orientation": "h",
         "type": "bar",
         "visible": false,
         "x": [
          0.7663273498022932
         ],
         "y": [
          "DF - Bayesian Mean"
         ]
        },
        {
         "error_x": {
          "array": [
           0.7664088161885456,
           0.7694767461518917,
           4.053039919019209,
           21.349316553118612,
           1.511413192895538,
           2.5271846036757335,
           37.56596555698084
          ],
          "arrayminus": [
           0.7663273498022932,
           0.7694767461518917,
           3.8118709712937573,
           19.09783647938525,
           1.4885027983830654,
           2.219660460644711,
           34.22982602079722
          ],
          "symmetric": false,
          "type": "data"
         },
         "name": "DF - Popularity",
         "orientation": "h",
         "type": "bar",
         "visible": false,
         "x": [
          0.7694767461518917
         ],
         "y": [
          "DF - Popularity"
         ]
        },
        {
         "error_x": {
          "array": [
           0.7664088161885456,
           0.7694767461518917,
           4.053039919019209,
           21.349316553118612,
           1.511413192895538,
           2.5271846036757335,
           37.56596555698084
          ],
          "arrayminus": [
           0.7663273498022932,
           0.7694767461518917,
           3.8118709712937573,
           19.09783647938525,
           1.4885027983830654,
           2.219660460644711,
           34.22982602079722
          ],
          "symmetric": false,
          "type": "data"
         },
         "name": "CBF - Plots",
         "orientation": "h",
         "type": "bar",
         "visible": false,
         "x": [
          3.8118709712937573
         ],
         "y": [
          "CBF - Plots"
         ]
        },
        {
         "error_x": {
          "array": [
           0.7664088161885456,
           0.7694767461518917,
           4.053039919019209,
           21.349316553118612,
           1.511413192895538,
           2.5271846036757335,
           37.56596555698084
          ],
          "arrayminus": [
           0.7663273498022932,
           0.7694767461518917,
           3.8118709712937573,
           19.09783647938525,
           1.4885027983830654,
           2.219660460644711,
           34.22982602079722
          ],
          "symmetric": false,
          "type": "data"
         },
         "name": "CBF - Metadatas",
         "orientation": "h",
         "type": "bar",
         "visible": false,
         "x": [
          19.09783647938525
         ],
         "y": [
          "CBF - Metadatas"
         ]
        },
        {
         "error_x": {
          "array": [
           0.7664088161885456,
           0.7694767461518917,
           4.053039919019209,
           21.349316553118612,
           1.511413192895538,
           2.5271846036757335,
           37.56596555698084
          ],
          "arrayminus": [
           0.7663273498022932,
           0.7694767461518917,
           3.8118709712937573,
           19.09783647938525,
           1.4885027983830654,
           2.219660460644711,
           34.22982602079722
          ],
          "symmetric": false,
          "type": "data"
         },
         "name": "CF - User-Based",
         "orientation": "h",
         "type": "bar",
         "visible": false,
         "x": [
          1.4885027983830654
         ],
         "y": [
          "CF - User-Based"
         ]
        },
        {
         "error_x": {
          "array": [
           0.7664088161885456,
           0.7694767461518917,
           4.053039919019209,
           21.349316553118612,
           1.511413192895538,
           2.5271846036757335,
           37.56596555698084
          ],
          "arrayminus": [
           0.7663273498022932,
           0.7694767461518917,
           3.8118709712937573,
           19.09783647938525,
           1.4885027983830654,
           2.219660460644711,
           34.22982602079722
          ],
          "symmetric": false,
          "type": "data"
         },
         "name": "CF - Item-Based",
         "orientation": "h",
         "type": "bar",
         "visible": false,
         "x": [
          2.219660460644711
         ],
         "y": [
          "CF - Item-Based"
         ]
        },
        {
         "error_x": {
          "array": [
           0.7664088161885456,
           0.7694767461518917,
           4.053039919019209,
           21.349316553118612,
           1.511413192895538,
           2.5271846036757335,
           37.56596555698084
          ],
          "arrayminus": [
           0.7663273498022932,
           0.7694767461518917,
           3.8118709712937573,
           19.09783647938525,
           1.4885027983830654,
           2.219660460644711,
           34.22982602079722
          ],
          "symmetric": false,
          "type": "data"
         },
         "name": "Hybrid Filtering",
         "orientation": "h",
         "type": "bar",
         "visible": false,
         "x": [
          34.22982602079722
         ],
         "y": [
          "Hybrid Filtering"
         ]
        }
       ],
       "layout": {
        "annotations": [
         {
          "showarrow": false,
          "text": "Variable:",
          "x": 0.23,
          "xref": "paper",
          "y": 1.21,
          "yref": "paper"
         }
        ],
        "autosize": true,
        "barmode": "group",
        "height": 600,
        "legend": {
         "orientation": "v"
        },
        "template": {
         "data": {
          "bar": [
           {
            "error_x": {
             "color": "#f2f5fa"
            },
            "error_y": {
             "color": "#f2f5fa"
            },
            "marker": {
             "line": {
              "color": "rgb(17,17,17)",
              "width": 0.5
             },
             "pattern": {
              "fillmode": "overlay",
              "size": 10,
              "solidity": 0.2
             }
            },
            "type": "bar"
           }
          ],
          "barpolar": [
           {
            "marker": {
             "line": {
              "color": "rgb(17,17,17)",
              "width": 0.5
             },
             "pattern": {
              "fillmode": "overlay",
              "size": 10,
              "solidity": 0.2
             }
            },
            "type": "barpolar"
           }
          ],
          "carpet": [
           {
            "aaxis": {
             "endlinecolor": "#A2B1C6",
             "gridcolor": "#506784",
             "linecolor": "#506784",
             "minorgridcolor": "#506784",
             "startlinecolor": "#A2B1C6"
            },
            "baxis": {
             "endlinecolor": "#A2B1C6",
             "gridcolor": "#506784",
             "linecolor": "#506784",
             "minorgridcolor": "#506784",
             "startlinecolor": "#A2B1C6"
            },
            "type": "carpet"
           }
          ],
          "choropleth": [
           {
            "colorbar": {
             "outlinewidth": 0,
             "ticks": ""
            },
            "type": "choropleth"
           }
          ],
          "contour": [
           {
            "colorbar": {
             "outlinewidth": 0,
             "ticks": ""
            },
            "colorscale": [
             [
              0,
              "#0d0887"
             ],
             [
              0.1111111111111111,
              "#46039f"
             ],
             [
              0.2222222222222222,
              "#7201a8"
             ],
             [
              0.3333333333333333,
              "#9c179e"
             ],
             [
              0.4444444444444444,
              "#bd3786"
             ],
             [
              0.5555555555555556,
              "#d8576b"
             ],
             [
              0.6666666666666666,
              "#ed7953"
             ],
             [
              0.7777777777777778,
              "#fb9f3a"
             ],
             [
              0.8888888888888888,
              "#fdca26"
             ],
             [
              1,
              "#f0f921"
             ]
            ],
            "type": "contour"
           }
          ],
          "contourcarpet": [
           {
            "colorbar": {
             "outlinewidth": 0,
             "ticks": ""
            },
            "type": "contourcarpet"
           }
          ],
          "heatmap": [
           {
            "colorbar": {
             "outlinewidth": 0,
             "ticks": ""
            },
            "colorscale": [
             [
              0,
              "#0d0887"
             ],
             [
              0.1111111111111111,
              "#46039f"
             ],
             [
              0.2222222222222222,
              "#7201a8"
             ],
             [
              0.3333333333333333,
              "#9c179e"
             ],
             [
              0.4444444444444444,
              "#bd3786"
             ],
             [
              0.5555555555555556,
              "#d8576b"
             ],
             [
              0.6666666666666666,
              "#ed7953"
             ],
             [
              0.7777777777777778,
              "#fb9f3a"
             ],
             [
              0.8888888888888888,
              "#fdca26"
             ],
             [
              1,
              "#f0f921"
             ]
            ],
            "type": "heatmap"
           }
          ],
          "heatmapgl": [
           {
            "colorbar": {
             "outlinewidth": 0,
             "ticks": ""
            },
            "colorscale": [
             [
              0,
              "#0d0887"
             ],
             [
              0.1111111111111111,
              "#46039f"
             ],
             [
              0.2222222222222222,
              "#7201a8"
             ],
             [
              0.3333333333333333,
              "#9c179e"
             ],
             [
              0.4444444444444444,
              "#bd3786"
             ],
             [
              0.5555555555555556,
              "#d8576b"
             ],
             [
              0.6666666666666666,
              "#ed7953"
             ],
             [
              0.7777777777777778,
              "#fb9f3a"
             ],
             [
              0.8888888888888888,
              "#fdca26"
             ],
             [
              1,
              "#f0f921"
             ]
            ],
            "type": "heatmapgl"
           }
          ],
          "histogram": [
           {
            "marker": {
             "pattern": {
              "fillmode": "overlay",
              "size": 10,
              "solidity": 0.2
             }
            },
            "type": "histogram"
           }
          ],
          "histogram2d": [
           {
            "colorbar": {
             "outlinewidth": 0,
             "ticks": ""
            },
            "colorscale": [
             [
              0,
              "#0d0887"
             ],
             [
              0.1111111111111111,
              "#46039f"
             ],
             [
              0.2222222222222222,
              "#7201a8"
             ],
             [
              0.3333333333333333,
              "#9c179e"
             ],
             [
              0.4444444444444444,
              "#bd3786"
             ],
             [
              0.5555555555555556,
              "#d8576b"
             ],
             [
              0.6666666666666666,
              "#ed7953"
             ],
             [
              0.7777777777777778,
              "#fb9f3a"
             ],
             [
              0.8888888888888888,
              "#fdca26"
             ],
             [
              1,
              "#f0f921"
             ]
            ],
            "type": "histogram2d"
           }
          ],
          "histogram2dcontour": [
           {
            "colorbar": {
             "outlinewidth": 0,
             "ticks": ""
            },
            "colorscale": [
             [
              0,
              "#0d0887"
             ],
             [
              0.1111111111111111,
              "#46039f"
             ],
             [
              0.2222222222222222,
              "#7201a8"
             ],
             [
              0.3333333333333333,
              "#9c179e"
             ],
             [
              0.4444444444444444,
              "#bd3786"
             ],
             [
              0.5555555555555556,
              "#d8576b"
             ],
             [
              0.6666666666666666,
              "#ed7953"
             ],
             [
              0.7777777777777778,
              "#fb9f3a"
             ],
             [
              0.8888888888888888,
              "#fdca26"
             ],
             [
              1,
              "#f0f921"
             ]
            ],
            "type": "histogram2dcontour"
           }
          ],
          "mesh3d": [
           {
            "colorbar": {
             "outlinewidth": 0,
             "ticks": ""
            },
            "type": "mesh3d"
           }
          ],
          "parcoords": [
           {
            "line": {
             "colorbar": {
              "outlinewidth": 0,
              "ticks": ""
             }
            },
            "type": "parcoords"
           }
          ],
          "pie": [
           {
            "automargin": true,
            "type": "pie"
           }
          ],
          "scatter": [
           {
            "marker": {
             "line": {
              "color": "#283442"
             }
            },
            "type": "scatter"
           }
          ],
          "scatter3d": [
           {
            "line": {
             "colorbar": {
              "outlinewidth": 0,
              "ticks": ""
             }
            },
            "marker": {
             "colorbar": {
              "outlinewidth": 0,
              "ticks": ""
             }
            },
            "type": "scatter3d"
           }
          ],
          "scattercarpet": [
           {
            "marker": {
             "colorbar": {
              "outlinewidth": 0,
              "ticks": ""
             }
            },
            "type": "scattercarpet"
           }
          ],
          "scattergeo": [
           {
            "marker": {
             "colorbar": {
              "outlinewidth": 0,
              "ticks": ""
             }
            },
            "type": "scattergeo"
           }
          ],
          "scattergl": [
           {
            "marker": {
             "line": {
              "color": "#283442"
             }
            },
            "type": "scattergl"
           }
          ],
          "scattermapbox": [
           {
            "marker": {
             "colorbar": {
              "outlinewidth": 0,
              "ticks": ""
             }
            },
            "type": "scattermapbox"
           }
          ],
          "scatterpolar": [
           {
            "marker": {
             "colorbar": {
              "outlinewidth": 0,
              "ticks": ""
             }
            },
            "type": "scatterpolar"
           }
          ],
          "scatterpolargl": [
           {
            "marker": {
             "colorbar": {
              "outlinewidth": 0,
              "ticks": ""
             }
            },
            "type": "scatterpolargl"
           }
          ],
          "scatterternary": [
           {
            "marker": {
             "colorbar": {
              "outlinewidth": 0,
              "ticks": ""
             }
            },
            "type": "scatterternary"
           }
          ],
          "surface": [
           {
            "colorbar": {
             "outlinewidth": 0,
             "ticks": ""
            },
            "colorscale": [
             [
              0,
              "#0d0887"
             ],
             [
              0.1111111111111111,
              "#46039f"
             ],
             [
              0.2222222222222222,
              "#7201a8"
             ],
             [
              0.3333333333333333,
              "#9c179e"
             ],
             [
              0.4444444444444444,
              "#bd3786"
             ],
             [
              0.5555555555555556,
              "#d8576b"
             ],
             [
              0.6666666666666666,
              "#ed7953"
             ],
             [
              0.7777777777777778,
              "#fb9f3a"
             ],
             [
              0.8888888888888888,
              "#fdca26"
             ],
             [
              1,
              "#f0f921"
             ]
            ],
            "type": "surface"
           }
          ],
          "table": [
           {
            "cells": {
             "fill": {
              "color": "#506784"
             },
             "line": {
              "color": "rgb(17,17,17)"
             }
            },
            "header": {
             "fill": {
              "color": "#2a3f5f"
             },
             "line": {
              "color": "rgb(17,17,17)"
             }
            },
            "type": "table"
           }
          ]
         },
         "layout": {
          "annotationdefaults": {
           "arrowcolor": "#f2f5fa",
           "arrowhead": 0,
           "arrowwidth": 1
          },
          "autotypenumbers": "strict",
          "coloraxis": {
           "colorbar": {
            "outlinewidth": 0,
            "ticks": ""
           }
          },
          "colorscale": {
           "diverging": [
            [
             0,
             "#8e0152"
            ],
            [
             0.1,
             "#c51b7d"
            ],
            [
             0.2,
             "#de77ae"
            ],
            [
             0.3,
             "#f1b6da"
            ],
            [
             0.4,
             "#fde0ef"
            ],
            [
             0.5,
             "#f7f7f7"
            ],
            [
             0.6,
             "#e6f5d0"
            ],
            [
             0.7,
             "#b8e186"
            ],
            [
             0.8,
             "#7fbc41"
            ],
            [
             0.9,
             "#4d9221"
            ],
            [
             1,
             "#276419"
            ]
           ],
           "sequential": [
            [
             0,
             "#0d0887"
            ],
            [
             0.1111111111111111,
             "#46039f"
            ],
            [
             0.2222222222222222,
             "#7201a8"
            ],
            [
             0.3333333333333333,
             "#9c179e"
            ],
            [
             0.4444444444444444,
             "#bd3786"
            ],
            [
             0.5555555555555556,
             "#d8576b"
            ],
            [
             0.6666666666666666,
             "#ed7953"
            ],
            [
             0.7777777777777778,
             "#fb9f3a"
            ],
            [
             0.8888888888888888,
             "#fdca26"
            ],
            [
             1,
             "#f0f921"
            ]
           ],
           "sequentialminus": [
            [
             0,
             "#0d0887"
            ],
            [
             0.1111111111111111,
             "#46039f"
            ],
            [
             0.2222222222222222,
             "#7201a8"
            ],
            [
             0.3333333333333333,
             "#9c179e"
            ],
            [
             0.4444444444444444,
             "#bd3786"
            ],
            [
             0.5555555555555556,
             "#d8576b"
            ],
            [
             0.6666666666666666,
             "#ed7953"
            ],
            [
             0.7777777777777778,
             "#fb9f3a"
            ],
            [
             0.8888888888888888,
             "#fdca26"
            ],
            [
             1,
             "#f0f921"
            ]
           ]
          },
          "colorway": [
           "#636efa",
           "#EF553B",
           "#00cc96",
           "#ab63fa",
           "#FFA15A",
           "#19d3f3",
           "#FF6692",
           "#B6E880",
           "#FF97FF",
           "#FECB52"
          ],
          "font": {
           "color": "#f2f5fa"
          },
          "geo": {
           "bgcolor": "rgb(17,17,17)",
           "lakecolor": "rgb(17,17,17)",
           "landcolor": "rgb(17,17,17)",
           "showlakes": true,
           "showland": true,
           "subunitcolor": "#506784"
          },
          "hoverlabel": {
           "align": "left"
          },
          "hovermode": "closest",
          "mapbox": {
           "style": "dark"
          },
          "paper_bgcolor": "rgb(17,17,17)",
          "plot_bgcolor": "rgb(17,17,17)",
          "polar": {
           "angularaxis": {
            "gridcolor": "#506784",
            "linecolor": "#506784",
            "ticks": ""
           },
           "bgcolor": "rgb(17,17,17)",
           "radialaxis": {
            "gridcolor": "#506784",
            "linecolor": "#506784",
            "ticks": ""
           }
          },
          "scene": {
           "xaxis": {
            "backgroundcolor": "rgb(17,17,17)",
            "gridcolor": "#506784",
            "gridwidth": 2,
            "linecolor": "#506784",
            "showbackground": true,
            "ticks": "",
            "zerolinecolor": "#C8D4E3"
           },
           "yaxis": {
            "backgroundcolor": "rgb(17,17,17)",
            "gridcolor": "#506784",
            "gridwidth": 2,
            "linecolor": "#506784",
            "showbackground": true,
            "ticks": "",
            "zerolinecolor": "#C8D4E3"
           },
           "zaxis": {
            "backgroundcolor": "rgb(17,17,17)",
            "gridcolor": "#506784",
            "gridwidth": 2,
            "linecolor": "#506784",
            "showbackground": true,
            "ticks": "",
            "zerolinecolor": "#C8D4E3"
           }
          },
          "shapedefaults": {
           "line": {
            "color": "#f2f5fa"
           }
          },
          "sliderdefaults": {
           "bgcolor": "#C8D4E3",
           "bordercolor": "rgb(17,17,17)",
           "borderwidth": 1,
           "tickwidth": 0
          },
          "ternary": {
           "aaxis": {
            "gridcolor": "#506784",
            "linecolor": "#506784",
            "ticks": ""
           },
           "baxis": {
            "gridcolor": "#506784",
            "linecolor": "#506784",
            "ticks": ""
           },
           "bgcolor": "rgb(17,17,17)",
           "caxis": {
            "gridcolor": "#506784",
            "linecolor": "#506784",
            "ticks": ""
           }
          },
          "title": {
           "x": 0.05
          },
          "updatemenudefaults": {
           "bgcolor": "#506784",
           "borderwidth": 0
          },
          "xaxis": {
           "automargin": true,
           "gridcolor": "#283442",
           "linecolor": "#506784",
           "ticks": "",
           "title": {
            "standoff": 15
           },
           "zerolinecolor": "#283442",
           "zerolinewidth": 2
          },
          "yaxis": {
           "automargin": true,
           "gridcolor": "#283442",
           "linecolor": "#506784",
           "ticks": "",
           "title": {
            "standoff": 15
           },
           "zerolinecolor": "#283442",
           "zerolinewidth": 2
          }
         }
        },
        "title": {
         "text": "Benchmarking - Execution Time"
        },
        "updatemenus": [
         {
          "active": 0,
          "buttons": [
           {
            "args": [
             {
              "visible": [
               true,
               true,
               true,
               true,
               true,
               true,
               true,
               false,
               false,
               false,
               false,
               false,
               false,
               false,
               false,
               false,
               false,
               false,
               false,
               false,
               false
              ]
             },
             {
              "xaxis.title.text": "AVG Execution Time (seconds)"
             }
            ],
            "label": "Execution Time",
            "method": "update"
           },
           {
            "args": [
             {
              "visible": [
               false,
               false,
               false,
               false,
               false,
               false,
               false,
               true,
               true,
               true,
               true,
               true,
               true,
               true,
               false,
               false,
               false,
               false,
               false,
               false,
               false
              ]
             },
             {
              "xaxis.title.text": "AVG CPU Usage (%)"
             }
            ],
            "label": "CPU Usage",
            "method": "update"
           },
           {
            "args": [
             {
              "visible": [
               false,
               false,
               false,
               false,
               false,
               false,
               false,
               false,
               false,
               false,
               false,
               false,
               false,
               false,
               true,
               true,
               true,
               true,
               true,
               true,
               true
              ]
             },
             {
              "xaxis.title.text": "AVG RAM Usage (%)"
             }
            ],
            "label": "RAM Usage",
            "method": "update"
           }
          ],
          "x": 0.45,
          "y": 1.23
         }
        ],
        "width": 1250,
        "xaxis": {
         "autorange": true,
         "range": [
          -32.66178470341625,
          620.5704245649164
         ],
         "rangeslider": {
          "autorange": true,
          "range": [
           -32.66178470341625,
           620.5704245649164
          ],
          "visible": true,
          "yaxis": {
           "_template": null,
           "rangemode": "match"
          }
         },
         "title": {
          "text": "AVG Execution Time (seconds)"
         },
         "type": "linear"
        },
        "yaxis": {
         "autorange": true,
         "categoryarray": [
          "Hybrid Filtering",
          "CF - Item-Based",
          "CF - User-Based",
          "CBF - Metadatas",
          "CBF - Plots",
          "DF - Popularity",
          "DF - Bayesian Mean"
         ],
         "range": [
          -0.5,
          6.5
         ],
         "showgrid": true,
         "ticksuffix": "\t",
         "title": {
          "text": "Algorithm"
         },
         "type": "category"
        }
       }
      },
      "image/png": "[encoded data removed]",
      "text/html": [
       "<div>                            <div id=\"907b8552-2bce-4097-b157-23be4648550a\" class=\"plotly-graph-div\" style=\"height:600px; width:1250px;\"></div>            <script type=\"text/javascript\">                require([\"plotly\"], function(Plotly) {                    window.PLOTLYENV=window.PLOTLYENV || {};                                    if (document.getElementById(\"907b8552-2bce-4097-b157-23be4648550a\")) {                    Plotly.newPlot(                        \"907b8552-2bce-4097-b157-23be4648550a\",                        [{\"error_x\":{\"array\":[0.1134421215590444,0.11254280960901084,311.6701880112341,9.423174790509458,103.64269119945605,605.7214081681392,164.8968357313028],\"arrayminus\":[0.10968023000750685,0.10950599000789221,288.56618109003176,7.557566660013981,101.32468960997649,587.7953719799407,161.76375636996235],\"symmetric\":false,\"type\":\"data\"},\"name\":\"DF - Bayesian Mean\",\"orientation\":\"h\",\"visible\":true,\"x\":[0.10968023000750685],\"y\":[\"DF - Bayesian Mean\"],\"type\":\"bar\"},{\"error_x\":{\"array\":[0.1134421215590444,0.11254280960901084,311.6701880112341,9.423174790509458,103.64269119945605,605.7214081681392,164.8968357313028],\"arrayminus\":[0.10968023000750685,0.10950599000789221,288.56618109003176,7.557566660013981,101.32468960997649,587.7953719799407,161.76375636996235],\"symmetric\":false,\"type\":\"data\"},\"name\":\"DF - Popularity\",\"orientation\":\"h\",\"visible\":true,\"x\":[0.10950599000789221],\"y\":[\"DF - Popularity\"],\"type\":\"bar\"},{\"error_x\":{\"array\":[0.1134421215590444,0.11254280960901084,311.6701880112341,9.423174790509458,103.64269119945605,605.7214081681392,164.8968357313028],\"arrayminus\":[0.10968023000750685,0.10950599000789221,288.56618109003176,7.557566660013981,101.32468960997649,587.7953719799407,161.76375636996235],\"symmetric\":false,\"type\":\"data\"},\"name\":\"CBF - Plots\",\"orientation\":\"h\",\"visible\":true,\"x\":[288.56618109003176],\"y\":[\"CBF - Plots\"],\"type\":\"bar\"},{\"error_x\":{\"array\":[0.1134421215590444,0.11254280960901084,311.6701880112341,9.423174790509458,103.64269119945605,605.7214081681392,164.8968357313028],\"arrayminus\":[0.10968023000750685,0.10950599000789221,288.56618109003176,7.557566660013981,101.32468960997649,587.7953719799407,161.76375636996235],\"symmetric\":false,\"type\":\"data\"},\"name\":\"CBF - Metadatas\",\"orientation\":\"h\",\"visible\":true,\"x\":[7.557566660013981],\"y\":[\"CBF - Metadatas\"],\"type\":\"bar\"},{\"error_x\":{\"array\":[0.1134421215590444,0.11254280960901084,311.6701880112341,9.423174790509458,103.64269119945605,605.7214081681392,164.8968357313028],\"arrayminus\":[0.10968023000750685,0.10950599000789221,288.56618109003176,7.557566660013981,101.32468960997649,587.7953719799407,161.76375636996235],\"symmetric\":false,\"type\":\"data\"},\"name\":\"CF - User-Based\",\"orientation\":\"h\",\"visible\":true,\"x\":[101.32468960997649],\"y\":[\"CF - User-Based\"],\"type\":\"bar\"},{\"error_x\":{\"array\":[0.1134421215590444,0.11254280960901084,311.6701880112341,9.423174790509458,103.64269119945605,605.7214081681392,164.8968357313028],\"arrayminus\":[0.10968023000750685,0.10950599000789221,288.56618109003176,7.557566660013981,101.32468960997649,587.7953719799407,161.76375636996235],\"symmetric\":false,\"type\":\"data\"},\"name\":\"CF - Item-Based\",\"orientation\":\"h\",\"visible\":true,\"x\":[587.7953719799407],\"y\":[\"CF - Item-Based\"],\"type\":\"bar\"},{\"error_x\":{\"array\":[0.1134421215590444,0.11254280960901084,311.6701880112341,9.423174790509458,103.64269119945605,605.7214081681392,164.8968357313028],\"arrayminus\":[0.10968023000750685,0.10950599000789221,288.56618109003176,7.557566660013981,101.32468960997649,587.7953719799407,161.76375636996235],\"symmetric\":false,\"type\":\"data\"},\"name\":\"Hybrid Filtering\",\"orientation\":\"h\",\"visible\":true,\"x\":[161.76375636996235],\"y\":[\"Hybrid Filtering\"],\"type\":\"bar\"},{\"error_x\":{\"array\":[1.1072967232839481,1.6294768918954616,12.436230528779998,12.259105539023677,12.42015098169801,12.480573931066049,12.52136721894511],\"arrayminus\":[0.35625,0.7112499999999999,12.384713234070857,11.87164656952525,12.35513393535353,12.451095888027051,12.434722809711706],\"symmetric\":false,\"type\":\"data\"},\"name\":\"DF - Bayesian Mean\",\"orientation\":\"h\",\"visible\":false,\"x\":[0.35625],\"y\":[\"DF - Bayesian Mean\"],\"type\":\"bar\"},{\"error_x\":{\"array\":[1.1072967232839481,1.6294768918954616,12.436230528779998,12.259105539023677,12.42015098169801,12.480573931066049,12.52136721894511],\"arrayminus\":[0.35625,0.7112499999999999,12.384713234070857,11.87164656952525,12.35513393535353,12.451095888027051,12.434722809711706],\"symmetric\":false,\"type\":\"data\"},\"name\":\"DF - Popularity\",\"orientation\":\"h\",\"visible\":false,\"x\":[0.7112499999999999],\"y\":[\"DF - Popularity\"],\"type\":\"bar\"},{\"error_x\":{\"array\":[1.1072967232839481,1.6294768918954616,12.436230528779998,12.259105539023677,12.42015098169801,12.480573931066049,12.52136721894511],\"arrayminus\":[0.35625,0.7112499999999999,12.384713234070857,11.87164656952525,12.35513393535353,12.451095888027051,12.434722809711706],\"symmetric\":false,\"type\":\"data\"},\"name\":\"CBF - Plots\",\"orientation\":\"h\",\"visible\":false,\"x\":[12.384713234070857],\"y\":[\"CBF - Plots\"],\"type\":\"bar\"},{\"error_x\":{\"array\":[1.1072967232839481,1.6294768918954616,12.436230528779998,12.259105539023677,12.42015098169801,12.480573931066049,12.52136721894511],\"arrayminus\":[0.35625,0.7112499999999999,12.384713234070857,11.87164656952525,12.35513393535353,12.451095888027051,12.434722809711706],\"symmetric\":false,\"type\":\"data\"},\"name\":\"CBF - Metadatas\",\"orientation\":\"h\",\"visible\":false,\"x\":[11.87164656952525],\"y\":[\"CBF - Metadatas\"],\"type\":\"bar\"},{\"error_x\":{\"array\":[1.1072967232839481,1.6294768918954616,12.436230528779998,12.259105539023677,12.42015098169801,12.480573931066049,12.52136721894511],\"arrayminus\":[0.35625,0.7112499999999999,12.384713234070857,11.87164656952525,12.35513393535353,12.451095888027051,12.434722809711706],\"symmetric\":false,\"type\":\"data\"},\"name\":\"CF - User-Based\",\"orientation\":\"h\",\"visible\":false,\"x\":[12.35513393535353],\"y\":[\"CF - User-Based\"],\"type\":\"bar\"},{\"error_x\":{\"array\":[1.1072967232839481,1.6294768918954616,12.436230528779998,12.259105539023677,12.42015098169801,12.480573931066049,12.52136721894511],\"arrayminus\":[0.35625,0.7112499999999999,12.384713234070857,11.87164656952525,12.35513393535353,12.451095888027051,12.434722809711706],\"symmetric\":false,\"type\":\"data\"},\"name\":\"CF - Item-Based\",\"orientation\":\"h\",\"visible\":false,\"x\":[12.451095888027051],\"y\":[\"CF - Item-Based\"],\"type\":\"bar\"},{\"error_x\":{\"array\":[1.1072967232839481,1.6294768918954616,12.436230528779998,12.259105539023677,12.42015098169801,12.480573931066049,12.52136721894511],\"arrayminus\":[0.35625,0.7112499999999999,12.384713234070857,11.87164656952525,12.35513393535353,12.451095888027051,12.434722809711706],\"symmetric\":false,\"type\":\"data\"},\"name\":\"Hybrid Filtering\",\"orientation\":\"h\",\"visible\":false,\"x\":[12.434722809711706],\"y\":[\"Hybrid Filtering\"],\"type\":\"bar\"},{\"error_x\":{\"array\":[0.7664088161885456,0.7694767461518917,4.053039919019209,21.349316553118612,1.511413192895538,2.5271846036757335,37.56596555698084],\"arrayminus\":[0.7663273498022932,0.7694767461518917,3.8118709712937573,19.09783647938525,1.4885027983830654,2.219660460644711,34.22982602079722],\"symmetric\":false,\"type\":\"data\"},\"name\":\"DF - Bayesian Mean\",\"orientation\":\"h\",\"visible\":false,\"x\":[0.7663273498022932],\"y\":[\"DF - Bayesian Mean\"],\"type\":\"bar\"},{\"error_x\":{\"array\":[0.7664088161885456,0.7694767461518917,4.053039919019209,21.349316553118612,1.511413192895538,2.5271846036757335,37.56596555698084],\"arrayminus\":[0.7663273498022932,0.7694767461518917,3.8118709712937573,19.09783647938525,1.4885027983830654,2.219660460644711,34.22982602079722],\"symmetric\":false,\"type\":\"data\"},\"name\":\"DF - Popularity\",\"orientation\":\"h\",\"visible\":false,\"x\":[0.7694767461518917],\"y\":[\"DF - Popularity\"],\"type\":\"bar\"},{\"error_x\":{\"array\":[0.7664088161885456,0.7694767461518917,4.053039919019209,21.349316553118612,1.511413192895538,2.5271846036757335,37.56596555698084],\"arrayminus\":[0.7663273498022932,0.7694767461518917,3.8118709712937573,19.09783647938525,1.4885027983830654,2.219660460644711,34.22982602079722],\"symmetric\":false,\"type\":\"data\"},\"name\":\"CBF - Plots\",\"orientation\":\"h\",\"visible\":false,\"x\":[3.8118709712937573],\"y\":[\"CBF - Plots\"],\"type\":\"bar\"},{\"error_x\":{\"array\":[0.7664088161885456,0.7694767461518917,4.053039919019209,21.349316553118612,1.511413192895538,2.5271846036757335,37.56596555698084],\"arrayminus\":[0.7663273498022932,0.7694767461518917,3.8118709712937573,19.09783647938525,1.4885027983830654,2.219660460644711,34.22982602079722],\"symmetric\":false,\"type\":\"data\"},\"name\":\"CBF - Metadatas\",\"orientation\":\"h\",\"visible\":false,\"x\":[19.09783647938525],\"y\":[\"CBF - Metadatas\"],\"type\":\"bar\"},{\"error_x\":{\"array\":[0.7664088161885456,0.7694767461518917,4.053039919019209,21.349316553118612,1.511413192895538,2.5271846036757335,37.56596555698084],\"arrayminus\":[0.7663273498022932,0.7694767461518917,3.8118709712937573,19.09783647938525,1.4885027983830654,2.219660460644711,34.22982602079722],\"symmetric\":false,\"type\":\"data\"},\"name\":\"CF - User-Based\",\"orientation\":\"h\",\"visible\":false,\"x\":[1.4885027983830654],\"y\":[\"CF - User-Based\"],\"type\":\"bar\"},{\"error_x\":{\"array\":[0.7664088161885456,0.7694767461518917,4.053039919019209,21.349316553118612,1.511413192895538,2.5271846036757335,37.56596555698084],\"arrayminus\":[0.7663273498022932,0.7694767461518917,3.8118709712937573,19.09783647938525,1.4885027983830654,2.219660460644711,34.22982602079722],\"symmetric\":false,\"type\":\"data\"},\"name\":\"CF - Item-Based\",\"orientation\":\"h\",\"visible\":false,\"x\":[2.219660460644711],\"y\":[\"CF - Item-Based\"],\"type\":\"bar\"},{\"error_x\":{\"array\":[0.7664088161885456,0.7694767461518917,4.053039919019209,21.349316553118612,1.511413192895538,2.5271846036757335,37.56596555698084],\"arrayminus\":[0.7663273498022932,0.7694767461518917,3.8118709712937573,19.09783647938525,1.4885027983830654,2.219660460644711,34.22982602079722],\"symmetric\":false,\"type\":\"data\"},\"name\":\"Hybrid Filtering\",\"orientation\":\"h\",\"visible\":false,\"x\":[34.22982602079722],\"y\":[\"Hybrid Filtering\"],\"type\":\"bar\"}],                        {\"template\":{\"data\":{\"barpolar\":[{\"marker\":{\"line\":{\"color\":\"rgb(17,17,17)\",\"width\":0.5},\"pattern\":{\"fillmode\":\"overlay\",\"size\":10,\"solidity\":0.2}},\"type\":\"barpolar\"}],\"bar\":[{\"error_x\":{\"color\":\"#f2f5fa\"},\"error_y\":{\"color\":\"#f2f5fa\"},\"marker\":{\"line\":{\"color\":\"rgb(17,17,17)\",\"width\":0.5},\"pattern\":{\"fillmode\":\"overlay\",\"size\":10,\"solidity\":0.2}},\"type\":\"bar\"}],\"carpet\":[{\"aaxis\":{\"endlinecolor\":\"#A2B1C6\",\"gridcolor\":\"#506784\",\"linecolor\":\"#506784\",\"minorgridcolor\":\"#506784\",\"startlinecolor\":\"#A2B1C6\"},\"baxis\":{\"endlinecolor\":\"#A2B1C6\",\"gridcolor\":\"#506784\",\"linecolor\":\"#506784\",\"minorgridcolor\":\"#506784\",\"startlinecolor\":\"#A2B1C6\"},\"type\":\"carpet\"}],\"choropleth\":[{\"colorbar\":{\"outlinewidth\":0,\"ticks\":\"\"},\"type\":\"choropleth\"}],\"contourcarpet\":[{\"colorbar\":{\"outlinewidth\":0,\"ticks\":\"\"},\"type\":\"contourcarpet\"}],\"contour\":[{\"colorbar\":{\"outlinewidth\":0,\"ticks\":\"\"},\"colorscale\":[[0.0,\"#0d0887\"],[0.1111111111111111,\"#46039f\"],[0.2222222222222222,\"#7201a8\"],[0.3333333333333333,\"#9c179e\"],[0.4444444444444444,\"#bd3786\"],[0.5555555555555556,\"#d8576b\"],[0.6666666666666666,\"#ed7953\"],[0.7777777777777778,\"#fb9f3a\"],[0.8888888888888888,\"#fdca26\"],[1.0,\"#f0f921\"]],\"type\":\"contour\"}],\"heatmapgl\":[{\"colorbar\":{\"outlinewidth\":0,\"ticks\":\"\"},\"colorscale\":[[0.0,\"#0d0887\"],[0.1111111111111111,\"#46039f\"],[0.2222222222222222,\"#7201a8\"],[0.3333333333333333,\"#9c179e\"],[0.4444444444444444,\"#bd3786\"],[0.5555555555555556,\"#d8576b\"],[0.6666666666666666,\"#ed7953\"],[0.7777777777777778,\"#fb9f3a\"],[0.8888888888888888,\"#fdca26\"],[1.0,\"#f0f921\"]],\"type\":\"heatmapgl\"}],\"heatmap\":[{\"colorbar\":{\"outlinewidth\":0,\"ticks\":\"\"},\"colorscale\":[[0.0,\"#0d0887\"],[0.1111111111111111,\"#46039f\"],[0.2222222222222222,\"#7201a8\"],[0.3333333333333333,\"#9c179e\"],[0.4444444444444444,\"#bd3786\"],[0.5555555555555556,\"#d8576b\"],[0.6666666666666666,\"#ed7953\"],[0.7777777777777778,\"#fb9f3a\"],[0.8888888888888888,\"#fdca26\"],[1.0,\"#f0f921\"]],\"type\":\"heatmap\"}],\"histogram2dcontour\":[{\"colorbar\":{\"outlinewidth\":0,\"ticks\":\"\"},\"colorscale\":[[0.0,\"#0d0887\"],[0.1111111111111111,\"#46039f\"],[0.2222222222222222,\"#7201a8\"],[0.3333333333333333,\"#9c179e\"],[0.4444444444444444,\"#bd3786\"],[0.5555555555555556,\"#d8576b\"],[0.6666666666666666,\"#ed7953\"],[0.7777777777777778,\"#fb9f3a\"],[0.8888888888888888,\"#fdca26\"],[1.0,\"#f0f921\"]],\"type\":\"histogram2dcontour\"}],\"histogram2d\":[{\"colorbar\":{\"outlinewidth\":0,\"ticks\":\"\"},\"colorscale\":[[0.0,\"#0d0887\"],[0.1111111111111111,\"#46039f\"],[0.2222222222222222,\"#7201a8\"],[0.3333333333333333,\"#9c179e\"],[0.4444444444444444,\"#bd3786\"],[0.5555555555555556,\"#d8576b\"],[0.6666666666666666,\"#ed7953\"],[0.7777777777777778,\"#fb9f3a\"],[0.8888888888888888,\"#fdca26\"],[1.0,\"#f0f921\"]],\"type\":\"histogram2d\"}],\"histogram\":[{\"marker\":{\"pattern\":{\"fillmode\":\"overlay\",\"size\":10,\"solidity\":0.2}},\"type\":\"histogram\"}],\"mesh3d\":[{\"colorbar\":{\"outlinewidth\":0,\"ticks\":\"\"},\"type\":\"mesh3d\"}],\"parcoords\":[{\"line\":{\"colorbar\":{\"outlinewidth\":0,\"ticks\":\"\"}},\"type\":\"parcoords\"}],\"pie\":[{\"automargin\":true,\"type\":\"pie\"}],\"scatter3d\":[{\"line\":{\"colorbar\":{\"outlinewidth\":0,\"ticks\":\"\"}},\"marker\":{\"colorbar\":{\"outlinewidth\":0,\"ticks\":\"\"}},\"type\":\"scatter3d\"}],\"scattercarpet\":[{\"marker\":{\"colorbar\":{\"outlinewidth\":0,\"ticks\":\"\"}},\"type\":\"scattercarpet\"}],\"scattergeo\":[{\"marker\":{\"colorbar\":{\"outlinewidth\":0,\"ticks\":\"\"}},\"type\":\"scattergeo\"}],\"scattergl\":[{\"marker\":{\"line\":{\"color\":\"#283442\"}},\"type\":\"scattergl\"}],\"scattermapbox\":[{\"marker\":{\"colorbar\":{\"outlinewidth\":0,\"ticks\":\"\"}},\"type\":\"scattermapbox\"}],\"scatterpolargl\":[{\"marker\":{\"colorbar\":{\"outlinewidth\":0,\"ticks\":\"\"}},\"type\":\"scatterpolargl\"}],\"scatterpolar\":[{\"marker\":{\"colorbar\":{\"outlinewidth\":0,\"ticks\":\"\"}},\"type\":\"scatterpolar\"}],\"scatter\":[{\"marker\":{\"line\":{\"color\":\"#283442\"}},\"type\":\"scatter\"}],\"scatterternary\":[{\"marker\":{\"colorbar\":{\"outlinewidth\":0,\"ticks\":\"\"}},\"type\":\"scatterternary\"}],\"surface\":[{\"colorbar\":{\"outlinewidth\":0,\"ticks\":\"\"},\"colorscale\":[[0.0,\"#0d0887\"],[0.1111111111111111,\"#46039f\"],[0.2222222222222222,\"#7201a8\"],[0.3333333333333333,\"#9c179e\"],[0.4444444444444444,\"#bd3786\"],[0.5555555555555556,\"#d8576b\"],[0.6666666666666666,\"#ed7953\"],[0.7777777777777778,\"#fb9f3a\"],[0.8888888888888888,\"#fdca26\"],[1.0,\"#f0f921\"]],\"type\":\"surface\"}],\"table\":[{\"cells\":{\"fill\":{\"color\":\"#506784\"},\"line\":{\"color\":\"rgb(17,17,17)\"}},\"header\":{\"fill\":{\"color\":\"#2a3f5f\"},\"line\":{\"color\":\"rgb(17,17,17)\"}},\"type\":\"table\"}]},\"layout\":{\"annotationdefaults\":{\"arrowcolor\":\"#f2f5fa\",\"arrowhead\":0,\"arrowwidth\":1},\"autotypenumbers\":\"strict\",\"coloraxis\":{\"colorbar\":{\"outlinewidth\":0,\"ticks\":\"\"}},\"colorscale\":{\"diverging\":[[0,\"#8e0152\"],[0.1,\"#c51b7d\"],[0.2,\"#de77ae\"],[0.3,\"#f1b6da\"],[0.4,\"#fde0ef\"],[0.5,\"#f7f7f7\"],[0.6,\"#e6f5d0\"],[0.7,\"#b8e186\"],[0.8,\"#7fbc41\"],[0.9,\"#4d9221\"],[1,\"#276419\"]],\"sequential\":[[0.0,\"#0d0887\"],[0.1111111111111111,\"#46039f\"],[0.2222222222222222,\"#7201a8\"],[0.3333333333333333,\"#9c179e\"],[0.4444444444444444,\"#bd3786\"],[0.5555555555555556,\"#d8576b\"],[0.6666666666666666,\"#ed7953\"],[0.7777777777777778,\"#fb9f3a\"],[0.8888888888888888,\"#fdca26\"],[1.0,\"#f0f921\"]],\"sequentialminus\":[[0.0,\"#0d0887\"],[0.1111111111111111,\"#46039f\"],[0.2222222222222222,\"#7201a8\"],[0.3333333333333333,\"#9c179e\"],[0.4444444444444444,\"#bd3786\"],[0.5555555555555556,\"#d8576b\"],[0.6666666666666666,\"#ed7953\"],[0.7777777777777778,\"#fb9f3a\"],[0.8888888888888888,\"#fdca26\"],[1.0,\"#f0f921\"]]},\"colorway\":[\"#636efa\",\"#EF553B\",\"#00cc96\",\"#ab63fa\",\"#FFA15A\",\"#19d3f3\",\"#FF6692\",\"#B6E880\",\"#FF97FF\",\"#FECB52\"],\"font\":{\"color\":\"#f2f5fa\"},\"geo\":{\"bgcolor\":\"rgb(17,17,17)\",\"lakecolor\":\"rgb(17,17,17)\",\"landcolor\":\"rgb(17,17,17)\",\"showlakes\":true,\"showland\":true,\"subunitcolor\":\"#506784\"},\"hoverlabel\":{\"align\":\"left\"},\"hovermode\":\"closest\",\"mapbox\":{\"style\":\"dark\"},\"paper_bgcolor\":\"rgb(17,17,17)\",\"plot_bgcolor\":\"rgb(17,17,17)\",\"polar\":{\"angularaxis\":{\"gridcolor\":\"#506784\",\"linecolor\":\"#506784\",\"ticks\":\"\"},\"bgcolor\":\"rgb(17,17,17)\",\"radialaxis\":{\"gridcolor\":\"#506784\",\"linecolor\":\"#506784\",\"ticks\":\"\"}},\"scene\":{\"xaxis\":{\"backgroundcolor\":\"rgb(17,17,17)\",\"gridcolor\":\"#506784\",\"gridwidth\":2,\"linecolor\":\"#506784\",\"showbackground\":true,\"ticks\":\"\",\"zerolinecolor\":\"#C8D4E3\"},\"yaxis\":{\"backgroundcolor\":\"rgb(17,17,17)\",\"gridcolor\":\"#506784\",\"gridwidth\":2,\"linecolor\":\"#506784\",\"showbackground\":true,\"ticks\":\"\",\"zerolinecolor\":\"#C8D4E3\"},\"zaxis\":{\"backgroundcolor\":\"rgb(17,17,17)\",\"gridcolor\":\"#506784\",\"gridwidth\":2,\"linecolor\":\"#506784\",\"showbackground\":true,\"ticks\":\"\",\"zerolinecolor\":\"#C8D4E3\"}},\"shapedefaults\":{\"line\":{\"color\":\"#f2f5fa\"}},\"sliderdefaults\":{\"bgcolor\":\"#C8D4E3\",\"bordercolor\":\"rgb(17,17,17)\",\"borderwidth\":1,\"tickwidth\":0},\"ternary\":{\"aaxis\":{\"gridcolor\":\"#506784\",\"linecolor\":\"#506784\",\"ticks\":\"\"},\"baxis\":{\"gridcolor\":\"#506784\",\"linecolor\":\"#506784\",\"ticks\":\"\"},\"bgcolor\":\"rgb(17,17,17)\",\"caxis\":{\"gridcolor\":\"#506784\",\"linecolor\":\"#506784\",\"ticks\":\"\"}},\"title\":{\"x\":0.05},\"updatemenudefaults\":{\"bgcolor\":\"#506784\",\"borderwidth\":0},\"xaxis\":{\"automargin\":true,\"gridcolor\":\"#283442\",\"linecolor\":\"#506784\",\"ticks\":\"\",\"title\":{\"standoff\":15},\"zerolinecolor\":\"#283442\",\"zerolinewidth\":2},\"yaxis\":{\"automargin\":true,\"gridcolor\":\"#283442\",\"linecolor\":\"#506784\",\"ticks\":\"\",\"title\":{\"standoff\":15},\"zerolinecolor\":\"#283442\",\"zerolinewidth\":2}}},\"title\":{\"text\":\"Benchmarking - Execution Time\"},\"legend\":{\"orientation\":\"v\"},\"xaxis\":{\"rangeslider\":{\"visible\":true},\"type\":\"linear\",\"title\":{\"text\":\"AVG Execution Time (seconds)\"}},\"barmode\":\"group\",\"width\":1250,\"height\":600,\"autosize\":true,\"updatemenus\":[{\"active\":0,\"buttons\":[{\"args\":[{\"visible\":[true,true,true,true,true,true,true,false,false,false,false,false,false,false,false,false,false,false,false,false,false]},{\"xaxis.title.text\":\"AVG Execution Time (seconds)\"}],\"label\":\"Execution Time\",\"method\":\"update\"},{\"args\":[{\"visible\":[false,false,false,false,false,false,false,true,true,true,true,true,true,true,false,false,false,false,false,false,false]},{\"xaxis.title.text\":\"AVG CPU Usage (%)\"}],\"label\":\"CPU Usage\",\"method\":\"update\"},{\"args\":[{\"visible\":[false,false,false,false,false,false,false,false,false,false,false,false,false,false,true,true,true,true,true,true,true]},{\"xaxis.title.text\":\"AVG RAM Usage (%)\"}],\"label\":\"RAM Usage\",\"method\":\"update\"}],\"x\":0.45,\"y\":1.23}],\"annotations\":[{\"showarrow\":false,\"text\":\"Variable:\",\"x\":0.23,\"xref\":\"paper\",\"y\":1.21,\"yref\":\"paper\"}],\"yaxis\":{\"title\":{\"text\":\"Algorithm\"},\"type\":\"category\",\"categoryarray\":[\"Hybrid Filtering\",\"CF - Item-Based\",\"CF - User-Based\",\"CBF - Metadatas\",\"CBF - Plots\",\"DF - Popularity\",\"DF - Bayesian Mean\"],\"ticksuffix\":\"\\t\",\"showgrid\":true}},                        {\"responsive\": true}                    ).then(function(){\n",
       "                            \n",
       "var gd = document.getElementById('907b8552-2bce-4097-b157-23be4648550a');\n",
       "var x = new MutationObserver(function (mutations, observer) {{\n",
       "        var display = window.getComputedStyle(gd).display;\n",
       "        if (!display || display === 'none') {{\n",
       "            console.log([gd, 'removed!']);\n",
       "            Plotly.purge(gd);\n",
       "            observer.disconnect();\n",
       "        }}\n",
       "}});\n",
       "\n",
       "// Listen for the removal of the full notebook cells\n",
       "var notebookContainer = gd.closest('#notebook-container');\n",
       "if (notebookContainer) {{\n",
       "    x.observe(notebookContainer, {childList: true});\n",
       "}}\n",
       "\n",
       "// Listen for the clearing of the current output cell\n",
       "var outputEl = gd.closest('.output');\n",
       "if (outputEl) {{\n",
       "    x.observe(outputEl, {childList: true});\n",
       "}}\n",
       "\n",
       "                        })                };                });            </script>        </div>"
      ]
     },
     "metadata": {},
     "output_type": "display_data"
    }
   ],
   "source": [
    "# ---- Figure ----\n",
    "fig = go.Figure(data=grouped_all_traces)\n",
    "\n",
    "fig.update_layout(\n",
    "    title_text='Benchmarking - Execution Time'\n",
    "    , barmode='group'               # 'group': bars side-by-side; 'stack': bars stacked\n",
    "    , template='plotly_dark'        # [\"plotly\", \"plotly_white\", \"plotly_dark\", \"ggplot2\", \"seaborn\", \"simple_white\", \"none\"]\n",
    "    , legend=dict(orientation='v')  # 'h': horizontal; 'v': vertical\n",
    "    , xaxis=dict(rangeslider=dict(visible=True), type='linear')\n",
    "    , width=1250\n",
    "    , height=600\n",
    "    , autosize=True\n",
    ")\n",
    "\n",
    "fig.update_layout(\n",
    "    updatemenus=[\n",
    "        dict(\n",
    "            active=0\n",
    "            , x=0.45\n",
    "            , y=1.23\n",
    "            , buttons=list([\n",
    "                dict(\n",
    "                    args=[\n",
    "                        {\n",
    "                            'visible': [True] * len(grouped_execution_time_traces)\n",
    "                                + [False] * len(grouped_cpu_usage_traces)\n",
    "                                + [False] * len(grouped_ram_usage_traces)\n",
    "                        }\n",
    "                        , { 'xaxis.title.text': 'AVG Execution Time (seconds)' }\n",
    "                    ]\n",
    "                    , label='Execution Time'\n",
    "                    , method='update'\n",
    "                )\n",
    "                , dict(\n",
    "                    args=[\n",
    "                        {\n",
    "                            'visible': [False] * len(grouped_execution_time_traces)\n",
    "                                + [True] * len(grouped_cpu_usage_traces)\n",
    "                                + [False] * len(grouped_ram_usage_traces)\n",
    "                        }\n",
    "                        , { 'xaxis.title.text': 'AVG CPU Usage (%)' }\n",
    "                    ]\n",
    "                    , label='CPU Usage'\n",
    "                    , method='update'\n",
    "                )\n",
    "                , dict(\n",
    "                    args=[\n",
    "                        {\n",
    "                            'visible': [False] * len(grouped_execution_time_traces)\n",
    "                                + [False] * len(grouped_cpu_usage_traces)\n",
    "                                + [True] * len(grouped_ram_usage_traces)\n",
    "                        }\n",
    "                        , { 'xaxis.title.text': 'AVG RAM Usage (%)' }\n",
    "                    ]\n",
    "                    , label='RAM Usage'\n",
    "                    , method='update'\n",
    "                )\n",
    "            ])\n",
    "        )\n",
    "    ]\n",
    ")\n",
    "\n",
    "fig.update_layout(annotations=[dict(text='Variable:', x=0.23, xref='paper', y=1.21, yref='paper', showarrow=False)])\n",
    "fig.update_yaxes(title='Algorithm', type='category', categoryarray=grouped_benchmark_df.index.to_list()[::-1], ticksuffix='\\t', showgrid=True)\n",
    "fig.update_xaxes(title='AVG Execution Time (seconds)')\n",
    "\n",
    "fig.show()"
   ]
  },
  {
   "cell_type": "markdown",
   "id": "2b7ba630-1ca3-4879-9666-2b7ef3a09aa8",
   "metadata": {},
   "source": [
    "---\n",
    "\n",
    "**- Iteration Analysis: All Variables**"
   ]
  },
  {
   "cell_type": "code",
   "execution_count": null,
   "id": "8ab14367-42ad-44ce-b221-495916270a93",
   "metadata": {},
   "outputs": [],
   "source": []
  },
  {
   "cell_type": "code",
   "execution_count": null,
   "id": "6cce5a87-4116-43ac-a9a5-8e63d7f5c014",
   "metadata": {},
   "outputs": [],
   "source": []
  },
  {
   "cell_type": "code",
   "execution_count": null,
   "id": "543abbeb-4977-4348-8034-e7d5b93d591b",
   "metadata": {},
   "outputs": [],
   "source": []
  },
  {
   "cell_type": "code",
   "execution_count": null,
   "id": "191e0889-a5d0-4e2e-a36e-5176cbeee24d",
   "metadata": {},
   "outputs": [],
   "source": []
  },
  {
   "cell_type": "code",
   "execution_count": null,
   "id": "969843cc-14e7-483c-9330-a0d977bf1acd",
   "metadata": {},
   "outputs": [],
   "source": []
  },
  {
   "cell_type": "code",
   "execution_count": null,
   "id": "6900b55e-d3ad-4d13-a3de-0ef79cb60cc6",
   "metadata": {},
   "outputs": [],
   "source": []
  },
  {
   "cell_type": "markdown",
   "id": "ad5121f1-0a16-4b1c-929b-0d6ad8693973",
   "metadata": {},
   "source": [
    "<h1 id='2-conclusions' style='color:#7159c1; border-bottom:3px solid #7159c1; letter-spacing:2px; font-family:JetBrains Mono; font-weight: bold; text-align:left; font-size:240%;padding:0'>👨‍🔬 | Conclusions</h1>"
   ]
  },
  {
   "cell_type": "markdown",
   "id": "434503bc-f0bb-4fbe-89f4-82de43e19540",
   "metadata": {},
   "source": [
    "---\n",
    "\n",
    "<h1 id='reach-me' style='color:#7159c1; border-bottom:3px solid #7159c1; letter-spacing:2px; font-family:JetBrains Mono; font-weight: bold; text-align:left; font-size:240%;padding:0'>📫 | Reach Me</h1>\n",
    "\n",
    "> **Email** - [csfelix08@gmail.com](mailto:csfelix08@gmail.com?)\n",
    "\n",
    "> **Linkedin** - [linkedin.com/in/csfelix/](https://www.linkedin.com/in/csfelix/)\n",
    "\n",
    "> **GitHub:** - [CSFelix](https://github.com/CSFelix)\n",
    "\n",
    "> **Kaggle** - [DSFelix](https://www.kaggle.com/dsfelix)\n",
    "\n",
    "> **Portfolio** - [CSFelix.io](https://csfelix.github.io/)."
   ]
  }
 ],
 "metadata": {
  "kernelspec": {
   "display_name": "Python 3 (ipykernel)",
   "language": "python",
   "name": "python3"
  },
  "language_info": {
   "codemirror_mode": {
    "name": "ipython",
    "version": 3
   },
   "file_extension": ".py",
   "mimetype": "text/x-python",
   "name": "python",
   "nbconvert_exporter": "python",
   "pygments_lexer": "ipython3",
   "version": "3.10.9"
  }
 },
 "nbformat": 4,
 "nbformat_minor": 5
}
