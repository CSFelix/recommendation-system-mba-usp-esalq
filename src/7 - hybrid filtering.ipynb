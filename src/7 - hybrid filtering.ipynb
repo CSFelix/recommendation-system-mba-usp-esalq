{
 "cells": [
  {
   "cell_type": "markdown",
   "id": "4e5d5c28-265b-4ab9-b083-15d18ab03da1",
   "metadata": {},
   "source": [
    "<center>\n",
    "    <h1 id='hybrid-filtering' style='color:#7159c1; font-size:350%'>Hybrid Filtering</h1>\n",
    "    <i style='font-size:125%'>Combining Content-Based Filtering and Collaborative Filtering</i>\n",
    "</center>\n",
    "\n",
    "> **Topics**\n",
    "\n",
    "```\n",
    "- 🍡 Collaborative Filtering Problems\n",
    "- 🍡 Hybrid Filtering\n",
    "- 🍡 Hands-on\n",
    "```"
   ]
  },
  {
   "cell_type": "markdown",
   "id": "f87867ee-0309-43b9-bd9e-1037877e3cf9",
   "metadata": {},
   "source": [
    "<h1 id='0-collaborative-filtering-problems' style='color:#7159c1; border-bottom:3px solid #7159c1; letter-spacing:2px; font-family:JetBrains Mono; font-weight: bold; text-align:left; font-size:240%;padding:0'>🍡 | Collaborative Filtering Problems</h1>\n",
    "\n",
    "Collaborative Filtering has some issues that we have to pay attention, being the `computational cost and time` the first one. As seen on Collaborative Filtering Item-Based Algorithm, a laptop with 12GB of RAM memory got 100% usage of this hardware, even though the dataset's sample being small compared to the total amount of data: only a few more datas than a million observations out of up to twenty-three million.\n",
    "\n",
    "Another problem is the `available data`. Since our dataset is large and contains observations from a bunch of users and animes, we did not face it off, but it is important to have this issue in mind. Collaborative Filtering requires a good number of users ratings of each anime in order to better recognizing the users tastes and retrieving more suitable recommendations. Due to this, when the platform has new users or new released animes, the Collaborative Filtering may not work very well with them, since the available data about them is scarce.\n",
    "\n",
    "The solution for the first problem is literally using a more powerful machine too do the tasks, changing the algorithm for more performatic ones.\n",
    "\n",
    "About the second problem, we can go into `Hybrid Filtering`, the best and last Recommendation System Technique we are going to see in this project."
   ]
  },
  {
   "cell_type": "markdown",
   "id": "8408f1c6-3dac-4162-847b-a4c93a636aea",
   "metadata": {},
   "source": [
    "<h1 id='1-hybrid-filtering' style='color:#7159c1; border-bottom:3px solid #7159c1; letter-spacing:2px; font-family:JetBrains Mono; font-weight: bold; text-align:left; font-size:240%;padding:0'>🍡 | Hybrid Filtering</h1>\n",
    "\n",
    "`Hybrid Filtering` combines the Content-Based Filtering and the Collaborative Filtering altogether. It normally applies the first technique when there are few users ratings available for a given anime and smoothly replaces it to the second technique as more users ratings become avaible for the given anime.\n",
    "\n",
    "Making things clearer, picture a situation where only a few users have rated Dragon Ball Z, in light of the small number of ratings, the technique will use Content-Based Filtering and recommend similar animes to Dragon Ball Z.\n",
    "\n",
    "On the other hand, a situation where many users have rated Noragami anime, due to the large number of ratings, the technique will use Collaborative Filtering and recommend similar items that similar users have liked.\n",
    "\n",
    "About the advantages:\n",
    "\n",
    "> **Content-Based Filtering and Collaborative Filtering** - `since Hybrid Filtering combines the both techniques and switches between them accordingly to the chosen user/item, this technique has the advantages of both of them`;\n",
    "\n",
    "> **Better Recommendations and Small Bubble** - `consequently, better recommendations are made with a tiny probability of creating a Bubble of Recommendations`.\n",
    "\n",
    "<br />\n",
    "\n",
    "Disadvantages-wise:\n",
    "\n",
    "> **Content-Based Filtering and Collaborativee Filtering** - `it also has the chosen technique to the chosen user/item disadvantages`;\n",
    "\n",
    "> **Required Users and Items Data** - `it requires that the dataset contains datas about the items and the users, as well as the interactions between them, that is, the users ratings for the items`;\n",
    "\n",
    "> **Computational Cost and Time** - `also, more computational cost and time is needed for the model`.\n",
    "\n",
    "<br />\n",
    "\n",
    "In this notebook, we are going to apply Hybrid Filtering merging `Collaborative Filtering based on Items' Metadatas` with `Collaborative Filtering based on Users`. Thus, before heading to the code, let's see how this algorithm works."
   ]
  },
  {
   "cell_type": "markdown",
   "id": "6fd00015-5f2a-415f-abcf-ce471f2d3b65",
   "metadata": {},
   "source": [
    "<h1 id='2-hands=on' style='color:#7159c1; border-bottom:3px solid #7159c1; letter-spacing:2px; font-family:JetBrains Mono; font-weight: bold; text-align:left; font-size:240%;padding:0'>🍡 | Hands-on</h1>\n",
    "\n",
    "Steps:\n",
    "\n",
    "```\n",
    "- Settings;\n",
    "- Content-Based Filtering Items' Metadatas Algorithm;\n",
    "- Collaborative Filtering Users-Based Algorithm;\n",
    "- Recommendations.\n",
    "```"
   ]
  },
  {
   "cell_type": "markdown",
   "id": "e23fb8cb-346e-42c7-ae5b-e8b3d15e5d42",
   "metadata": {},
   "source": [
    "---\n",
    "\n",
    "**- Settings**"
   ]
  },
  {
   "cell_type": "code",
   "execution_count": null,
   "id": "4e8648cd-6a62-4e02-86f8-02c11b668a45",
   "metadata": {},
   "outputs": [],
   "source": []
  }
 ],
 "metadata": {
  "kernelspec": {
   "display_name": "Python 3 (ipykernel)",
   "language": "python",
   "name": "python3"
  },
  "language_info": {
   "codemirror_mode": {
    "name": "ipython",
    "version": 3
   },
   "file_extension": ".py",
   "mimetype": "text/x-python",
   "name": "python",
   "nbconvert_exporter": "python",
   "pygments_lexer": "ipython3",
   "version": "3.10.9"
  }
 },
 "nbformat": 4,
 "nbformat_minor": 5
}
